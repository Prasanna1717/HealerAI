{
  "cells": [
    {
      "cell_type": "markdown",
      "metadata": {
        "id": "view-in-github",
        "colab_type": "text"
      },
      "source": [
        "<a href=\"https://colab.research.google.com/github/Prasanna1717/HealerAI/blob/main/HealerAI_FineTuned/Healer_AI_FineTuned_final.ipynb\" target=\"_parent\"><img src=\"https://colab.research.google.com/assets/colab-badge.svg\" alt=\"Open In Colab\"/></a>"
      ]
    },
    {
      "cell_type": "markdown",
      "source": [
        "**HEALER** An,Virtual AI based Mental therapist.\n",
        "By **OpenThunder**"
      ],
      "metadata": {
        "id": "u-Ih00Vu3NlY"
      }
    },
    {
      "cell_type": "code",
      "execution_count": null,
      "metadata": {
        "id": "JzHQaTXKCZyG"
      },
      "outputs": [],
      "source": [
        "!pip install --upgrade openai\n",
        "!pip install gradio\n",
        "!pip install git+https://github.com/openai/whisper.git\n",
        "!sudo apt-get install python-espeak\n",
        "!sudo apt-get update && sudo apt-get install espeak\n",
        "!apt install libasound2-dev portaudio19-dev libportaudio2 \n",
        "!libportaudiocpp0 ffmpeg\n",
        "!pip install --upgrade pyAudio\n",
        "!pip install gtts"
      ]
    },
    {
      "cell_type": "markdown",
      "source": [
        "# Our own fine tune model\n",
        "### davinci:ft-student-2022-12-12-19-06-49"
      ],
      "metadata": {
        "id": "o_gME3WKSIus"
      }
    },
    {
      "cell_type": "code",
      "source": [
        "!cd /content/drive/MyDrive/OpenThunder\n",
        "import sys\n",
        "sys.path.insert(0,\"/content/drive/MyDrive/OpenThunder\")\n",
        "import API_KEY"
      ],
      "metadata": {
        "id": "TnA_VVc2UyHT"
      },
      "execution_count": null,
      "outputs": []
    },
    {
      "cell_type": "code",
      "source": [
        "import openai\n",
        "import whisper\n",
        "from gtts import gTTS\n",
        "import gradio as gr\n",
        "import whisper\n",
        "from API_KEY import api_key\n",
        "\n",
        "# Please Enter your Chatgpt3 account key\n",
        "# you does not use API_KEY module This is my chatgpt3 key so i make my module\n",
        "\n",
        "# openai.api_key = \"Please Enter Your Chatgpt3 playground account api_key\"\n",
        "\n",
        "openai.api_key = api_key\n",
        "\n",
        "def text_to_responce(user_input):\n",
        "\n",
        "  bot_name = \"Healer\"\n",
        "  user_name = \"Abdullah\"\n",
        "  prompt = user_name + \": \" + user_input + \"\\n\" + bot_name + \": \"\n",
        "  conversation = prompt\n",
        "  response = openai.Completion.create(\n",
        "  model=\"text-davinci-001\",\n",
        "  prompt=conversation,\n",
        "  temperature=0,\n",
        "  max_tokens = 100\n",
        "                     )\n",
        "  response_str = response[\"choices\"][0][\"text\"].replace(\"\\n\",\"\")\n",
        "  response_str = response_str.split(user_name + \": \",1)[0].split(bot_name + \": \",1 )[0]\n",
        "  conversation += response_str + \"\\n\"\n",
        "  return response_str \n",
        "\n",
        " \n",
        "\n",
        "def text_to_voice(text):\n",
        "\n",
        "  myobj = gTTS(text=text, lang='en', slow=False) \n",
        "  myobj.save(\"test.wav\") \n",
        "  return 'test.wav'\n",
        "\n",
        "def voice_to_voice(audio):\n",
        "  \n",
        "  # Voice load and trim\n",
        "  model = whisper.load_model(\"base\")\n",
        "  audio = whisper.load_audio(audio)\n",
        "  audio = whisper.pad_or_trim(audio)\n",
        "\n",
        "  # make log-Mel spectrogram and move to the same device as the model\n",
        "  mel = whisper.log_mel_spectrogram(audio).to(model.device)\n",
        "\n",
        "  # detect the spoken language\n",
        "\n",
        "  _,probs = model.detect_language(mel)\n",
        "\n",
        "  # decode the audio\n",
        "  options = whisper.DecodingOptions()\n",
        "  result = whisper.decode(model, mel, options)\n",
        "  user_input = result.text\n",
        "\n",
        "  out_result = text_to_responce(user_input)\n",
        "  return text_to_voice(out_result)\n",
        "\n",
        "\n",
        "\n",
        "iface = gr.Interface(fn = voice_to_voice,\n",
        "                    inputs = [gr.inputs.Audio(source = \"microphone\", type = \"filepath\")],\n",
        "                     outputs = 'audio', \n",
        "                     \n",
        "                     title = 'HEALER',\n",
        "                     description = ' Healer is a Psychotherapist.',\n",
        "                     article = \n",
        "                        '''<div>\n",
        "                            <p style=\"text-align: center\"> Please wait.</p>\n",
        "                        </div>'''\n",
        "                    )\n",
        "\n",
        "iface.launch(debug = True)\n",
        "\n"
      ],
      "metadata": {
        "id": "_oEHI9_lXSkp"
      },
      "execution_count": null,
      "outputs": []
    },
    {
      "cell_type": "code",
      "execution_count": null,
      "metadata": {
        "id": "JbsDuYCMBQLX"
      },
      "outputs": [],
      "source": []
    }
  ],
  "metadata": {
    "accelerator": "GPU",
    "colab": {
      "provenance": [],
      "collapsed_sections": [
        "o_gME3WKSIus"
      ],
      "include_colab_link": true
    },
    "gpuClass": "standard",
    "kernelspec": {
      "display_name": "Python 3",
      "name": "python3"
    },
    "language_info": {
      "name": "python"
    }
  },
  "nbformat": 4,
  "nbformat_minor": 0
}